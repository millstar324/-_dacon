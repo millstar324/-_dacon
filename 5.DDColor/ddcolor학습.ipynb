{
 "cells": [
  {
   "cell_type": "markdown",
   "metadata": {},
   "source": [
    "# ddcolor학습코드"
   ]
  },
  {
   "cell_type": "markdown",
   "metadata": {},
   "source": [
    "### 0. val 데이터셋 따로 만들기"
   ]
  },
  {
   "cell_type": "code",
   "execution_count": 60,
   "metadata": {},
   "outputs": [
    {
     "name": "stdout",
     "output_type": "stream",
     "text": [
      "500 files copied from /home/kwy00/song/lama-with-refiner/extracted_files/train_gt to /home/kwy00/song/lama-with-refiner/extracted_files/val_rand.\n"
     ]
    }
   ],
   "source": [
    "import os\n",
    "import shutil\n",
    "import random\n",
    "\n",
    "def copy_random_files(source_folder, target_folder, num_files=500):\n",
    "    # 1. 소스 폴더에서 파일 목록 가져오기\n",
    "    if not os.path.exists(source_folder):\n",
    "        print(f\"Source folder {source_folder} does not exist.\")\n",
    "        return\n",
    "    \n",
    "    files = [f for f in os.listdir(source_folder) if os.path.isfile(os.path.join(source_folder, f))]\n",
    "    \n",
    "    # 2. 파일이 500개 미만이면 오류 출력\n",
    "    if len(files) < num_files:\n",
    "        print(f\"Not enough files in the source folder. Only {len(files)} files available.\")\n",
    "        return\n",
    "    \n",
    "    # 3. 랜덤으로 500개 파일 선택\n",
    "    selected_files = random.sample(files, num_files)\n",
    "    \n",
    "    # 4. 대상 폴더가 존재하지 않으면 생성\n",
    "    os.makedirs(target_folder, exist_ok=True)\n",
    "    \n",
    "    # 5. 선택된 파일 복사\n",
    "    for file_name in selected_files:\n",
    "        source_path = os.path.join(source_folder, file_name)\n",
    "        target_path = os.path.join(target_folder, file_name)\n",
    "        shutil.copy(source_path, target_path)\n",
    "    \n",
    "    print(f\"{num_files} files copied from {source_folder} to {target_folder}.\")\n",
    "\n",
    "# 사용 예시\n",
    "source_folder = \"/home/kwy00/song/lama-with-refiner/extracted_files/train_gt\"  # 소스 폴더 경로 입력\n",
    "target_folder = \"/home/kwy00/song/lama-with-refiner/extracted_files/val_rand\"  # 타겟 폴더 경로 입력\n",
    "copy_random_files(source_folder, target_folder, num_files=500)\n"
   ]
  },
  {
   "cell_type": "markdown",
   "metadata": {},
   "source": [
    "### 1. ddcolor 깃클론"
   ]
  },
  {
   "cell_type": "code",
   "execution_count": null,
   "metadata": {},
   "outputs": [],
   "source": [
    "!git clone https://github.com/piddnad/DDColor.git"
   ]
  },
  {
   "cell_type": "markdown",
   "metadata": {},
   "source": [
    "### 2. metafile만들기"
   ]
  },
  {
   "cell_type": "code",
   "execution_count": null,
   "metadata": {},
   "outputs": [
    {
     "name": "stdout",
     "output_type": "stream",
     "text": [
      "Generating /home/kwy00/song/lama-with-refiner/DDColor/metafile_val.txt from /home/kwy00/song/lama-with-refiner/extracted_files/val_rand ...\n",
      "100%|████████████████████████████████████| 500/500 [00:00<00:00, 4539290.04it/s]\n",
      "Done.\n"
     ]
    }
   ],
   "source": [
    "!python /home/kwy00/song/lama-with-refiner/DDColor/data_list/get_meta_file.py --data-path /home/kwy00/song/lama-with-refiner/extracted_files/val_rand --output-name /home/kwy00/song/lama-with-refiner/DDColor/metafile_val.txt\n"
   ]
  },
  {
   "cell_type": "code",
   "execution_count": 1,
   "metadata": {},
   "outputs": [
    {
     "name": "stdout",
     "output_type": "stream",
     "text": [
      "/home/kwy00/song/lama-with-refiner/DDColor\n"
     ]
    }
   ],
   "source": [
    "%cd lama-with-refiner/DDColor"
   ]
  },
  {
   "cell_type": "markdown",
   "metadata": {},
   "source": [
    "### 3. 라이브러리 설치"
   ]
  },
  {
   "cell_type": "code",
   "execution_count": null,
   "metadata": {},
   "outputs": [],
   "source": [
    "!pip install torchrun"
   ]
  },
  {
   "cell_type": "code",
   "execution_count": 44,
   "metadata": {},
   "outputs": [
    {
     "name": "stdout",
     "output_type": "stream",
     "text": [
      "Name: basicsr\n",
      "Version: 1.4.2\n",
      "Summary: Open Source Image and Video Super-Resolution Toolbox\n",
      "Home-page: https://github.com/xinntao/BasicSR\n",
      "Author: Xintao Wang\n",
      "Author-email: xintao.wang@outlook.com\n",
      "License: Apache License 2.0\n",
      "Location: /home/kwy00/anaconda3/envs/song/lib/python3.8/site-packages\n",
      "Editable project location: /home/kwy00/anaconda3/envs/song/lib/python3.8/site-packages\n",
      "Requires: addict, future, lmdb, numpy, opencv-python, Pillow, pyyaml, requests, scikit-image, scipy, tb-nightly, torch, torchvision, tqdm, yapf\n",
      "Required-by: \n"
     ]
    }
   ],
   "source": [
    "!pip show basicsr"
   ]
  },
  {
   "cell_type": "code",
   "execution_count": 37,
   "metadata": {},
   "outputs": [
    {
     "name": "stdout",
     "output_type": "stream",
     "text": [
      "/home/kwy00/anaconda3/envs/song/lib/python3.8/site-packages/setuptools/__init__.py:94: _DeprecatedInstaller: setuptools.installer and fetch_build_eggs are deprecated.\n",
      "!!\n",
      "\n",
      "        ********************************************************************************\n",
      "        Requirements should be satisfied by a PEP 517 installer.\n",
      "        If you are using pip, you can try `pip install --use-pep517`.\n",
      "        ********************************************************************************\n",
      "\n",
      "!!\n",
      "  dist.fetch_build_eggs(dist.setup_requires)\n",
      "running develop\n",
      "/home/kwy00/anaconda3/envs/song/lib/python3.8/site-packages/setuptools/command/develop.py:41: EasyInstallDeprecationWarning: easy_install command is deprecated.\n",
      "!!\n",
      "\n",
      "        ********************************************************************************\n",
      "        Please avoid running ``setup.py`` and ``easy_install``.\n",
      "        Instead, use pypa/build, pypa/installer or other\n",
      "        standards-based tools.\n",
      "\n",
      "        See https://github.com/pypa/setuptools/issues/917 for details.\n",
      "        ********************************************************************************\n",
      "\n",
      "!!\n",
      "  easy_install.initialize_options(self)\n",
      "/home/kwy00/anaconda3/envs/song/lib/python3.8/site-packages/setuptools/_distutils/cmd.py:66: SetuptoolsDeprecationWarning: setup.py install is deprecated.\n",
      "!!\n",
      "\n",
      "        ********************************************************************************\n",
      "        Please avoid running ``setup.py`` directly.\n",
      "        Instead, use pypa/build, pypa/installer or other\n",
      "        standards-based tools.\n",
      "\n",
      "        See https://blog.ganssle.io/articles/2021/10/setup-py-deprecated.html for details.\n",
      "        ********************************************************************************\n",
      "\n",
      "!!\n",
      "  self.initialize_options()\n",
      "running egg_info\n",
      "writing basicsr.egg-info/PKG-INFO\n",
      "writing dependency_links to basicsr.egg-info/dependency_links.txt\n",
      "writing requirements to basicsr.egg-info/requires.txt\n",
      "writing top-level names to basicsr.egg-info/top_level.txt\n",
      "reading manifest file 'basicsr.egg-info/SOURCES.txt'\n",
      "adding license file 'LICENSE'\n",
      "writing manifest file 'basicsr.egg-info/SOURCES.txt'\n",
      "/home/kwy00/anaconda3/envs/song/lib/python3.8/site-packages/torch/utils/cpp_extension.py:495: UserWarning: Attempted to use ninja as the BuildExtension backend but we could not find ninja.. Falling back to using the slow distutils backend.\n",
      "  warnings.warn(msg.format('we could not find ninja.'))\n",
      "running build_ext\n",
      "Creating /home/kwy00/anaconda3/envs/song/lib/python3.8/site-packages/basicsr.egg-link (link to .)\n",
      "basicsr 1.3.4.6 is already the active version in easy-install.pth\n",
      "\n",
      "Installed /home/kwy00/song/lama-with-refiner/DDColor\n",
      "Processing dependencies for basicsr==1.3.4.6\n",
      "Searching for scikit-image==0.22.0\n",
      "Reading https://pypi.org/simple/scikit-image/\n",
      "Downloading https://files.pythonhosted.org/packages/65/c1/a49da20845f0f0e1afbb1c2586d406dc0acb84c26ae293bad6d7e7f718bc/scikit_image-0.22.0.tar.gz#sha256=018d734df1d2da2719087d15f679d19285fce97cd37695103deadfaef2873236\n",
      "Best match: scikit-image 0.22.0\n",
      "Processing scikit_image-0.22.0.tar.gz\n",
      "error: Couldn't find a setup script in /tmp/easy_install-k4b0r1w5/scikit_image-0.22.0.tar.gz\n"
     ]
    }
   ],
   "source": [
    "!python setup.py develop"
   ]
  },
  {
   "cell_type": "code",
   "execution_count": null,
   "metadata": {},
   "outputs": [],
   "source": [
    "!pip install scikit-image==0.22.0"
   ]
  },
  {
   "cell_type": "code",
   "execution_count": 41,
   "metadata": {},
   "outputs": [
    {
     "name": "stdout",
     "output_type": "stream",
     "text": [
      "Name: scikit-image\n",
      "Version: 0.21.0\n",
      "Summary: Image processing in Python\n",
      "Home-page: https://scikit-image.org\n",
      "Author: \n",
      "Author-email: \n",
      "License: Files: *\n",
      "        Copyright: 2009-2022 the scikit-image team\n",
      "        License: BSD-3-Clause\n",
      "        \n",
      "        Files: doc/source/themes/scikit-image/layout.html\n",
      "        Copyright: 2007-2010 the Sphinx team\n",
      "        License: BSD-3-Clause\n",
      "        \n",
      "        Files: skimage/feature/_canny.py\n",
      "               skimage/filters/edges.py\n",
      "               skimage/filters/_rank_order.py\n",
      "               skimage/morphology/_skeletonize.py\n",
      "               skimage/morphology/tests/test_watershed.py\n",
      "               skimage/morphology/watershed.py\n",
      "               skimage/segmentation/heap_general.pxi\n",
      "               skimage/segmentation/heap_watershed.pxi\n",
      "               skimage/segmentation/_watershed.py\n",
      "               skimage/segmentation/_watershed_cy.pyx\n",
      "        Copyright: 2003-2009 Massachusetts Institute of Technology\n",
      "                   2009-2011 Broad Institute\n",
      "                   2003 Lee Kamentsky\n",
      "                   2003-2005 Peter J. Verveer\n",
      "        License: BSD-3-Clause\n",
      "        \n",
      "        Files: skimage/filters/thresholding.py\n",
      "               skimage/graph/_mcp.pyx\n",
      "               skimage/graph/heap.pyx\n",
      "        Copyright: 2009-2015 Board of Regents of the University of\n",
      "                   Wisconsin-Madison, Broad Institute of MIT and Harvard,\n",
      "                   and Max Planck Institute of Molecular Cell Biology and\n",
      "                   Genetics\n",
      "                   2009 Zachary Pincus\n",
      "                   2009 Almar Klein\n",
      "        License: BSD-2-Clause\n",
      "        \n",
      "        File: skimage/morphology/grayreconstruct.py\n",
      "              skimage/morphology/tests/test_reconstruction.py\n",
      "        Copyright: 2003-2009 Massachusetts Institute of Technology\n",
      "                   2009-2011 Broad Institute\n",
      "                   2003 Lee Kamentsky\n",
      "        License: BSD-3-Clause\n",
      "        \n",
      "        File: skimage/morphology/_grayreconstruct.pyx\n",
      "        Copyright: 2003-2009 Massachusetts Institute of Technology\n",
      "                   2009-2011 Broad Institute\n",
      "                   2003 Lee Kamentsky\n",
      "                   2022 Gregory Lee (added a 64-bit integer variant for large images)\n",
      "        License: BSD-3-Clause\n",
      "        \n",
      "        File: skimage/segmentation/_expand_labels.py\n",
      "        Copyright: 2020 Broad Institute\n",
      "                   2020 CellProfiler team\n",
      "        License: BSD-3-Clause\n",
      "        \n",
      "        File: skimage/exposure/_adapthist.py\n",
      "        Copyright: 1994 Karel Zuiderveld\n",
      "        License: BSD-3-Clause\n",
      "        \n",
      "        Function: skimage/morphology/_skeletonize_cy.pyx:_skeletonize_loop\n",
      "        Copyright: 2003-2009 Massachusetts Institute of Technology\n",
      "                   2009-2011 Broad Institute\n",
      "                   2003 Lee Kamentsky\n",
      "        License: BSD-3-Clause\n",
      "        \n",
      "        Function: skimage/_shared/version_requirements.py:_check_version\n",
      "        Copyright: 2013 The IPython Development Team\n",
      "        License: BSD-3-Clause\n",
      "        \n",
      "        Function: skimage/_shared/version_requirements.py:is_installed\n",
      "        Copyright: 2009-2011 Pierre Raybaut\n",
      "        License: MIT\n",
      "        \n",
      "        File: skimage/feature/fisher_vector.py\n",
      "        Copyright: 2014 2014 Dan Oneata\n",
      "        License: MIT\n",
      "        \n",
      "        \n",
      "        License: BSD-2-Clause\n",
      "        \n",
      "        Redistribution and use in source and binary forms, with or without\n",
      "        modification, are permitted provided that the following conditions\n",
      "        are met:\n",
      "        1. Redistributions of source code must retain the above copyright\n",
      "           notice, this list of conditions and the following disclaimer.\n",
      "        2. Redistributions in binary form must reproduce the above copyright\n",
      "           notice, this list of conditions and the following disclaimer in the\n",
      "           documentation and/or other materials provided with the distribution.\n",
      "        .\n",
      "        THIS SOFTWARE IS PROVIDED BY THE COPYRIGHT HOLDERS AND CONTRIBUTORS\n",
      "        ``AS IS'' AND ANY EXPRESS OR IMPLIED WARRANTIES, INCLUDING, BUT NOT\n",
      "        LIMITED TO, THE IMPLIED WARRANTIES OF MERCHANTABILITY AND FITNESS FOR\n",
      "        A PARTICULAR PURPOSE ARE DISCLAIMED. IN NO EVENT SHALL THE HOLDERS OR\n",
      "        CONTRIBUTORS BE LIABLE FOR ANY DIRECT, INDIRECT, INCIDENTAL, SPECIAL,\n",
      "        EXEMPLARY, OR CONSEQUENTIAL DAMAGES (INCLUDING, BUT NOT LIMITED TO,\n",
      "        PROCUREMENT OF SUBSTITUTE GOODS OR SERVICES; LOSS OF USE, DATA, OR\n",
      "        PROFITS; OR BUSINESS INTERRUPTION) HOWEVER CAUSED AND ON ANY THEORY OF\n",
      "        LIABILITY, WHETHER IN CONTRACT, STRICT LIABILITY, OR TORT (INCLUDING\n",
      "        NEGLIGENCE OR OTHERWISE) ARISING IN ANY WAY OUT OF THE USE OF THIS\n",
      "        SOFTWARE, EVEN IF ADVISED OF THE POSSIBILITY OF SUCH DAMAGE.\n",
      "        \n",
      "        License: BSD-3-Clause\n",
      "        \n",
      "        Redistribution and use in source and binary forms, with or without\n",
      "        modification, are permitted provided that the following conditions\n",
      "        are met:\n",
      "        1. Redistributions of source code must retain the above copyright\n",
      "           notice, this list of conditions and the following disclaimer.\n",
      "        2. Redistributions in binary form must reproduce the above copyright\n",
      "           notice, this list of conditions and the following disclaimer in the\n",
      "           documentation and/or other materials provided with the distribution.\n",
      "        3. Neither the name of the University nor the names of its contributors\n",
      "           may be used to endorse or promote products derived from this software\n",
      "           without specific prior written permission.\n",
      "        .\n",
      "        THIS SOFTWARE IS PROVIDED BY THE COPYRIGHT HOLDERS AND CONTRIBUTORS\n",
      "        ``AS IS'' AND ANY EXPRESS OR IMPLIED WARRANTIES, INCLUDING, BUT NOT\n",
      "        LIMITED TO, THE IMPLIED WARRANTIES OF MERCHANTABILITY AND FITNESS FOR\n",
      "        A PARTICULAR PURPOSE ARE DISCLAIMED. IN NO EVENT SHALL THE HOLDERS OR\n",
      "        CONTRIBUTORS BE LIABLE FOR ANY DIRECT, INDIRECT, INCIDENTAL, SPECIAL,\n",
      "        EXEMPLARY, OR CONSEQUENTIAL DAMAGES (INCLUDING, BUT NOT LIMITED TO,\n",
      "        PROCUREMENT OF SUBSTITUTE GOODS OR SERVICES; LOSS OF USE, DATA, OR\n",
      "        PROFITS; OR BUSINESS INTERRUPTION) HOWEVER CAUSED AND ON ANY THEORY OF\n",
      "        LIABILITY, WHETHER IN CONTRACT, STRICT LIABILITY, OR TORT (INCLUDING\n",
      "        NEGLIGENCE OR OTHERWISE) ARISING IN ANY WAY OUT OF THE USE OF THIS\n",
      "        SOFTWARE, EVEN IF ADVISED OF THE POSSIBILITY OF SUCH DAMAGE.\n",
      "        \n",
      "        License: MIT\n",
      "        \n",
      "        Permission is hereby granted, free of charge, to any person obtaining a copy\n",
      "        of this software and associated documentation files (the \"Software\"), to deal\n",
      "        in the Software without restriction, including without limitation the rights\n",
      "        to use, copy, modify, merge, publish, distribute, sublicense, and/or sell\n",
      "        copies of the Software, and to permit persons to whom the Software is\n",
      "        furnished to do so, subject to the following conditions:\n",
      "        \n",
      "        The above copyright notice and this permission notice shall be included in all\n",
      "        copies or substantial portions of the Software.\n",
      "        \n",
      "        THE SOFTWARE IS PROVIDED \"AS IS\", WITHOUT WARRANTY OF ANY KIND, EXPRESS OR\n",
      "        IMPLIED, INCLUDING BUT NOT LIMITED TO THE WARRANTIES OF MERCHANTABILITY,\n",
      "        FITNESS FOR A PARTICULAR PURPOSE AND NONINFRINGEMENT. IN NO EVENT SHALL THE\n",
      "        AUTHORS OR COPYRIGHT HOLDERS BE LIABLE FOR ANY CLAIM, DAMAGES OR OTHER\n",
      "        LIABILITY, WHETHER IN AN ACTION OF CONTRACT, TORT OR OTHERWISE, ARISING FROM,\n",
      "        OUT OF OR IN CONNECTION WITH THE SOFTWARE OR THE USE OR OTHER DEALINGS IN THE\n",
      "        SOFTWARE.\n",
      "Location: /home/kwy00/anaconda3/envs/song/lib/python3.8/site-packages\n",
      "Requires: imageio, lazy_loader, networkx, numpy, packaging, pillow, PyWavelets, scipy, tifffile\n",
      "Required-by: albumentations, basicsr, imgaug\n"
     ]
    }
   ],
   "source": [
    "!pip show scikit-image"
   ]
  },
  {
   "cell_type": "markdown",
   "metadata": {},
   "source": [
    "### 4. 학습"
   ]
  },
  {
   "cell_type": "code",
   "execution_count": null,
   "metadata": {},
   "outputs": [],
   "source": [
    "!sh scripts/train.sh"
   ]
  }
 ],
 "metadata": {
  "kernelspec": {
   "display_name": "song",
   "language": "python",
   "name": "python3"
  },
  "language_info": {
   "codemirror_mode": {
    "name": "ipython",
    "version": 3
   },
   "file_extension": ".py",
   "mimetype": "text/x-python",
   "name": "python",
   "nbconvert_exporter": "python",
   "pygments_lexer": "ipython3",
   "version": "3.8.20"
  }
 },
 "nbformat": 4,
 "nbformat_minor": 2
}
